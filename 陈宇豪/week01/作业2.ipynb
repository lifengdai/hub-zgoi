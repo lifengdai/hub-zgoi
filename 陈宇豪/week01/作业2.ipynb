{
 "cells": [
  {
   "cell_type": "code",
   "id": "initial_id",
   "metadata": {
    "collapsed": true,
    "ExecuteTime": {
     "end_time": "2025-08-15T09:35:45.819382Z",
     "start_time": "2025-08-15T09:35:45.776055Z"
    }
   },
   "source": [
    "from random import random\n",
    "import numpy as np\n",
    "import jieba\n",
    "import pandas as pd\n",
    "from sklearn.feature_extraction.text import CountVectorizer\n",
    "from sklearn.neighbors import KNeighborsClassifier\n",
    "\n",
    "rand_seed = 22\n",
    "\n",
    "dataset = pd.read_csv(\"./dataset.csv\", sep=\"\\t\", header=None)"
   ],
   "outputs": [],
   "execution_count": 80
  },
  {
   "metadata": {
    "ExecuteTime": {
     "end_time": "2025-08-15T09:35:48.237212Z",
     "start_time": "2025-08-15T09:35:48.183333Z"
    }
   },
   "cell_type": "code",
   "source": "print(dataset.info())",
   "id": "740a5ef50304e177",
   "outputs": [
    {
     "name": "stdout",
     "output_type": "stream",
     "text": [
      "<class 'pandas.core.frame.DataFrame'>\n",
      "RangeIndex: 12100 entries, 0 to 12099\n",
      "Data columns (total 2 columns):\n",
      " #   Column  Non-Null Count  Dtype \n",
      "---  ------  --------------  ----- \n",
      " 0   0       12100 non-null  object\n",
      " 1   1       12100 non-null  object\n",
      "dtypes: object(2)\n",
      "memory usage: 189.2+ KB\n",
      "None\n"
     ]
    }
   ],
   "execution_count": 81
  },
  {
   "metadata": {
    "ExecuteTime": {
     "end_time": "2025-08-15T09:35:52.804020Z",
     "start_time": "2025-08-15T09:35:52.794481Z"
    }
   },
   "cell_type": "code",
   "source": "dataset.head(5)",
   "id": "c602a9a74d56ec71",
   "outputs": [
    {
     "data": {
      "text/plain": [
       "                       0              1\n",
       "0      还有双鸭山到淮阴的汽车票吗13号的   Travel-Query\n",
       "1                从这里怎么回家   Travel-Query\n",
       "2       随便播放一首专辑阁楼里的佛里的歌     Music-Play\n",
       "3              给看一下墓王之王嘛  FilmTele-Play\n",
       "4  我想看挑战两把s686打突变团竞的游戏视频     Video-Play"
      ],
      "text/html": [
       "<div>\n",
       "<style scoped>\n",
       "    .dataframe tbody tr th:only-of-type {\n",
       "        vertical-align: middle;\n",
       "    }\n",
       "\n",
       "    .dataframe tbody tr th {\n",
       "        vertical-align: top;\n",
       "    }\n",
       "\n",
       "    .dataframe thead th {\n",
       "        text-align: right;\n",
       "    }\n",
       "</style>\n",
       "<table border=\"1\" class=\"dataframe\">\n",
       "  <thead>\n",
       "    <tr style=\"text-align: right;\">\n",
       "      <th></th>\n",
       "      <th>0</th>\n",
       "      <th>1</th>\n",
       "    </tr>\n",
       "  </thead>\n",
       "  <tbody>\n",
       "    <tr>\n",
       "      <th>0</th>\n",
       "      <td>还有双鸭山到淮阴的汽车票吗13号的</td>\n",
       "      <td>Travel-Query</td>\n",
       "    </tr>\n",
       "    <tr>\n",
       "      <th>1</th>\n",
       "      <td>从这里怎么回家</td>\n",
       "      <td>Travel-Query</td>\n",
       "    </tr>\n",
       "    <tr>\n",
       "      <th>2</th>\n",
       "      <td>随便播放一首专辑阁楼里的佛里的歌</td>\n",
       "      <td>Music-Play</td>\n",
       "    </tr>\n",
       "    <tr>\n",
       "      <th>3</th>\n",
       "      <td>给看一下墓王之王嘛</td>\n",
       "      <td>FilmTele-Play</td>\n",
       "    </tr>\n",
       "    <tr>\n",
       "      <th>4</th>\n",
       "      <td>我想看挑战两把s686打突变团竞的游戏视频</td>\n",
       "      <td>Video-Play</td>\n",
       "    </tr>\n",
       "  </tbody>\n",
       "</table>\n",
       "</div>"
      ]
     },
     "execution_count": 82,
     "metadata": {},
     "output_type": "execute_result"
    }
   ],
   "execution_count": 82
  },
  {
   "metadata": {},
   "cell_type": "markdown",
   "source": "jieba分词",
   "id": "8dd29b3551d2357c"
  },
  {
   "metadata": {
    "ExecuteTime": {
     "end_time": "2025-08-15T09:38:36.400322Z",
     "start_time": "2025-08-15T09:38:36.094584Z"
    }
   },
   "cell_type": "code",
   "source": [
    "words_sentence = dataset[0].apply(lambda x: \" \".join(jieba.lcut(x)))\n",
    "words_sentence"
   ],
   "id": "69d767523204ec99",
   "outputs": [
    {
     "data": {
      "text/plain": [
       "0                    还有 双鸭山 到 淮阴 的 汽车票 吗 13 号 的\n",
       "1                                    从 这里 怎么 回家\n",
       "2                     随便 播放 一首 专辑 阁楼 里 的 佛里 的 歌\n",
       "3                                给 看 一下 墓 王之王 嘛\n",
       "4             我 想 看 挑战 两把 s686 打 突变 团 竞 的 游戏 视频\n",
       "                          ...                  \n",
       "12095              一千六百五十 三加 三千 一百六十五 点 六五 等于 几\n",
       "12096                             稍 小点 客厅 空调 风速\n",
       "12097    黎耀祥 陈豪 邓萃雯 畲诗曼 陈 法拉 敖嘉年 杨怡 马浚伟 等 到场 出席\n",
       "12098                       百事 盖世 群星 星光 演唱会 有 谁\n",
       "12099                      下周一 视频会议 的 闹钟 帮 我 开开\n",
       "Name: 0, Length: 12100, dtype: object"
      ]
     },
     "execution_count": 92,
     "metadata": {},
     "output_type": "execute_result"
    }
   ],
   "execution_count": 92
  },
  {
   "metadata": {},
   "cell_type": "markdown",
   "source": "给特征去除一些没用的词",
   "id": "7b66fc553ced493e"
  },
  {
   "metadata": {
    "ExecuteTime": {
     "end_time": "2025-08-15T09:39:57.331708Z",
     "start_time": "2025-08-15T09:39:57.328449Z"
    }
   },
   "cell_type": "code",
   "source": [
    "from stopwordsiso import stopwords\n",
    "\n",
    "stopwords = stopwords('zh')\n",
    "print(stopwords)"
   ],
   "id": "c55188208b12eae",
   "outputs": [
    {
     "name": "stdout",
     "output_type": "stream",
     "text": [
      "{'倘若', '设或', '呵', '总而言之', '～', '哟', '何处', '至', '了', '任凭', '会', '它们', '这边', '不外乎', '不妨', '当着', '哗', '至若', '岂但', '遵照', '哉', '您', '咋', '亦', '反过来', '日', '矣哉', '纵', '分', '自家', '矣乎', '以便', '而已', '那个', '非特', '只是', '何况', '含', '＜', '然而', '｝', '〉', '以为', '进而', '｛', '总的来看', '前者', '这样', '这时', '有些', '则', '或者', '乃', '此处', '吗', '是以', '喽', '都', '随时', '给', '难道说', '对比', '但', '如果', '一转眼', '不但', '要是', '是的', '唉', '如同', '罢了', '嗯', '中', '如上所述', '后者', '及', '赶', '已', '既是', '各个', '只怕', '；', '纵然', '更', '诚然', '咱们', '嗡嗡', '本地', '譬喻', '哎', '虽', '谁人', '也罢', '仍', '以故', '在于', '许多', '诸如', '８', '若非', '任何', '大家', '别人', '唯有', '具体地说', '可以', '另一方面', '嗳', '连同', '哎呀', '｜', '凡是', '％', '要', '上下', '２', '甚而', '继而', '再有', '打从', '本着', '受到', '莫若', '有的', '哪怕', '按', '即', '向使', '犹且', '或是', '如此', '叮咚', '各自', '彼', '往', '点', '叫', '︿', '用', '甚且', '对', '起见', '者', '至今', '正巧', '那些', '自己', '别管', '归', '秒', '既然', '啦', '人家', '自身', '那么', '任', '若', '等到', '本人', '接着', '自后', '若是', '就', '遵循', '对待', '虽说', '吱', '要么', '即令', '月', '既', '今', '正如', '以及', '啊', '俺', '归齐', '慢说', '分别', '某些', '等等', '比方', '０', '与否', '本身', '其他', '望', '并', '故', '谁料', '哪天', '除开', '及至', '９', '并且', '彼此', '纵使', '其它', '只消', '再者', '，', '为什么', '别处', '啥', '除此之外', '首先', '不独', '一个', '又', '那样', '孰知', '５', '何时', '嘿', '既往', '比如', '呗', '如何', '始而', '随后', '巴', '无论', '倘然', '＋', '为止', '如是', '加以', '过', '人们', '纵令', '自从', '呕', '每', '正值', '综上所述', '甚至', '处在', '就算', '大', '咳', '随', '呃', '］', '又及', '得了', '等', '从而', '有', '或', '不比', '孰料', '呼哧', '多少', '根据', '由', '较之', '嘎登', '似的', '各位', '倘', '喂', '边', '紧接着', '有及', '怎么办', '尔', '故此', '对于', '。', '不尽', '然则', '才', '只要', '那里', '！', '１', '只', '以免', '哎哟', '矣', '这么', '以', '》', '呵呵', '而后', '谁知', '这', '也', '每当', '或曰', '曾', '顺', '只限', '＞', '共', '总之', '凭', '冒', '这次', '呜呼', '比', '固然', '一来', '如', '以期', '你们', '他们', '由此可见', '我', '以来', '一般', '多么', '即便', '冲', '可见', '惟其', '沿着', '除非', '除了', '经过', '嘻', '反而', '省得', '哪里', '后', '出于', '只当', '譬如', '开外', '《', '时候', '作为', '不问', '一切', '可是', '而外', '能', '７', '那边', '假使', '呜', '庶几', '凡', '本', '漫说', '由是', '做', '焉', '向', '哈', '何', '较', '用来', '为着', '要不然', '论', '其次', '［', '来着', '何以', '而况', '乎', '离', '的话', '４', '前后', '诸', '换句话说', '？', '临', '到', '哪样', '已矣', '即如', '当', '就是了', '哇', '除外', '使', '不如', '甚或', '且不说', '八', '二来', '哪个', '嘘', '只有', '不得', '因了', '另悉', '不然', '不怕', '俺们', '从', '内', '顺着', '不至于', '全部', '某某', '依照', '时', '万一', '朝着', '出来', '喏', '咦', '什', '哪', '照', '腾', '再则', '或则', '管', '赖以', '所在', '乌乎', '这么些', '不拘', '极了', '与其说', '可', '来', '随着', '此地', '称', '而是', '鉴于', '这么样', '不成', '越是', '别是', '此', '阿', '具体说来', '还有', '其二', '彼时', '吓', '所', '竟而', '起', '不管', '如其', '没奈何', '替代', '一则', '五', '则甚', '年', '三', '不光', '一方面', '还是', '乘', '简言之', '不论', '不单', '你', '借', '正是', '因', '看', '设使', '再者说', '继之', '怎奈', '怎么', '便于', '别', '自', '那么样', '啐', '此外', '逐步', '尽管如此', '对方', '光是', '二', '经', '全体', '结果', '且', '尽管', '于是乎', '与此同时', '不特', '一旦', '倘使', '此间', '贼死', '针对', '借傥然', '一何', '于', '哩', '其一', '如下', '个别', '眨眼', '否则', '即若', '好', '那儿', '例如', '甚么', '宁愿', '巴巴', '趁着', '人', '们', '各', '相对而言', '恰恰相反', '零', '虽则', '由此', '开始', '以上', '下', '虽然', '说', '以致', '关于', '为何', '反过来说', '自打', '犹自', '不', '６', '两者', '宁可', '就是', '我们', '换言之', '般的', '打', '的确', '再说', '些', '＄', '兮', '像', '（', '按照', '她', '不惟', '它', '之类', '总的说来', '以至', '咱', '通过', '这些', '：', '几时', '那时', '让', '与其', '将', '要不', '基于', '类如', '那会儿', '在下', '故而', '莫不然', '抑或', '加之', '即使', '一样', '所以', '为了', '但是', '据', '而言', '他', '的', '这一来', '上', '这般', '就要', '假如', '所幸', '着', '甚至于', '云云', '即或', '因此', '有时', '如若', '地', '从此', '而', '如上', '呀', '来说', '这会儿', '去', '还', '非', '七', '再', '把', '设若', '至于', '这里', '前此', '那', '一种', '鄙人', '反之', '莫如', '有关', '沿', '这个', '旁人', '尔后', '替', '来自', '当地', '若果', '距', '咧', '六', '怎', '嘛', '那般', '再其次', '兼之', '依据', '连', '得', '在', '其中', '然后', '＆', '诸位', '先不先', '为此', '怎么样', '要不是', '谁', '最', '嘎', '不过', '着呢', '与', '和', '果然', '直到', '况且', '向着', '因着', '宁肯', '朝', '自个儿', '若夫', '因而', '小', '咚', '截至', '无', '呸', '由于', '还要', '哦', '哪儿', '尚且', '无宁', '〈', '哼', '个', '啷当', '而且', '￥', '致', '什么样', '靠', '及其', '请', '另', '哪年', '这就是说', '某', '继后', '以至于', '不若', '呢', '其', '么', '这么点儿', '、', '为', '别说', '是', '此时', '总的来说', '所有', '不只', '除', '才能', '嘿嘿', '非但', '于是', '这儿', '哈哈', '拿', '因为', '介于', '之', '其余', '嗬', '待', '跟', '己', '之一', '光', '该', '一', '区', '九', '被', '非徒', '趁', '但凡', '照着', '能否', '关于具体地说', '吧', '毋宁', '＃', '尔尔', '喔唷', '仍旧', '＠', '第', '嗡', '同时', '且说', '某个', '云尔', '同', '多', '之所以', '乃至', '另外', '啪达', '也好', '欤', '比及', '却', '不是', '几', '就是说', '凭借', '哼唷', '别的', '诚如', '那么些', '当然', '怎样', '据此', '一些', '自各儿', '不仅', '说来', '庶乎', '不尽然', '依', '余外', '使得', '不料', '乃至于', '儿', '非独', '他们们', '宁', '他人', '什么', '假若', '四', '她们', '３', '倘或', '哪边', '哪些', '此次', '）', '吧哒', '很', '果真', '各种', '＊', '尽'}\n"
     ]
    }
   ],
   "execution_count": 100
  },
  {
   "metadata": {},
   "cell_type": "code",
   "outputs": [],
   "execution_count": null,
   "source": [
    "word_list = words_sentence[0].split()\n",
    "filtered_words = [word for word in word_list if word not in stopwords]\n",
    "print(\" \".join(filtered_words))"
   ],
   "id": "32ef6d4df50a27a0"
  },
  {
   "metadata": {
    "ExecuteTime": {
     "end_time": "2025-08-15T09:41:38.145205Z",
     "start_time": "2025-08-15T09:41:38.115562Z"
    }
   },
   "cell_type": "code",
   "source": [
    "def clean_text(words) -> str:\n",
    "    if not words or pd.isna(words):\n",
    "        return ''\n",
    "    word_list = words.split()\n",
    "    filtered_words = [word for word in word_list if word not in stopwords]\n",
    "    return \" \".join(filtered_words)\n",
    "\n",
    "words_sentence.apply(clean_text)"
   ],
   "id": "1cd5edc8a41b9613",
   "outputs": [
    {
     "data": {
      "text/plain": [
       "0                             双鸭山 淮阴 汽车票 13 号\n",
       "1                                          回家\n",
       "2                       随便 播放 一首 专辑 阁楼 里 佛里 歌\n",
       "3                                    一下 墓 王之王\n",
       "4                   想 挑战 两把 s686 突变 团 竞 游戏 视频\n",
       "                         ...                 \n",
       "12095                一千六百五十 三加 三千 一百六十五 六五 等于\n",
       "12096                           稍 小点 客厅 空调 风速\n",
       "12097    黎耀祥 陈豪 邓萃雯 畲诗曼 陈 法拉 敖嘉年 杨怡 马浚伟 到场 出席\n",
       "12098                         百事 盖世 群星 星光 演唱会\n",
       "12099                        下周一 视频会议 闹钟 帮 开开\n",
       "Name: 0, Length: 12100, dtype: object"
      ]
     },
     "execution_count": 103,
     "metadata": {},
     "output_type": "execute_result"
    }
   ],
   "execution_count": 103
  },
  {
   "metadata": {
    "ExecuteTime": {
     "end_time": "2025-08-14T13:55:45.790523Z",
     "start_time": "2025-08-14T13:55:45.787907Z"
    }
   },
   "cell_type": "code",
   "source": "dataset[0][0].split()",
   "id": "63fd77eec196c916",
   "outputs": [
    {
     "data": {
      "text/plain": [
       "['还有双鸭山到淮阴的汽车票吗13号的']"
      ]
     },
     "execution_count": 52,
     "metadata": {},
     "output_type": "execute_result"
    }
   ],
   "execution_count": 52
  },
  {
   "metadata": {},
   "cell_type": "markdown",
   "source": "#特征提取",
   "id": "1e77ae02905ab701"
  },
  {
   "metadata": {
    "ExecuteTime": {
     "end_time": "2025-08-14T13:55:45.853010Z",
     "start_time": "2025-08-14T13:55:45.803201Z"
    }
   },
   "cell_type": "code",
   "source": [
    "vector = CountVectorizer()  # 对文本进行提取特征 默认是使用标点符号分词\n",
    "vector.fit(words_sentence.values)\n",
    "print(words_sentence.values)"
   ],
   "id": "d4612178584772c5",
   "outputs": [
    {
     "name": "stdout",
     "output_type": "stream",
     "text": [
      "['还有 双鸭山 到 淮阴 的 汽车票 吗 13 号 的' '从 这里 怎么 回家' '随便 播放 一首 专辑 阁楼 里 的 佛里 的 歌' ...\n",
      " '黎耀祥 陈豪 邓萃雯 畲诗曼 陈 法拉 敖嘉年 杨怡 马浚伟 等 到场 出席' '百事 盖世 群星 星光 演唱会 有 谁'\n",
      " '下周一 视频会议 的 闹钟 帮 我 开开']\n"
     ]
    }
   ],
   "execution_count": 53
  },
  {
   "metadata": {
    "ExecuteTime": {
     "end_time": "2025-08-14T13:55:45.904793Z",
     "start_time": "2025-08-14T13:55:45.864182Z"
    }
   },
   "cell_type": "code",
   "source": [
    "input_feature = vector.transform(words_sentence.values)\n",
    "print(input_feature)"
   ],
   "id": "15840086e14ba904",
   "outputs": [
    {
     "name": "stdout",
     "output_type": "stream",
     "text": [
      "  (np.int32(0), np.int32(27))\t1\n",
      "  (np.int32(0), np.int32(2444))\t1\n",
      "  (np.int32(0), np.int32(6174))\t1\n",
      "  (np.int32(0), np.int32(6389))\t1\n",
      "  (np.int32(0), np.int32(8933))\t1\n",
      "  (np.int32(1), np.int32(2974))\t1\n",
      "  (np.int32(1), np.int32(4493))\t1\n",
      "  (np.int32(1), np.int32(8964))\t1\n",
      "  (np.int32(2), np.int32(539))\t1\n",
      "  (np.int32(2), np.int32(774))\t1\n",
      "  (np.int32(2), np.int32(1460))\t1\n",
      "  (np.int32(2), np.int32(5034))\t1\n",
      "  (np.int32(2), np.int32(9399))\t1\n",
      "  (np.int32(2), np.int32(9538))\t1\n",
      "  (np.int32(3), np.int32(410))\t1\n",
      "  (np.int32(3), np.int32(6843))\t1\n",
      "  (np.int32(4), np.int32(361))\t1\n",
      "  (np.int32(4), np.int32(830))\t1\n",
      "  (np.int32(4), np.int32(4919))\t1\n",
      "  (np.int32(4), np.int32(6440))\t1\n",
      "  (np.int32(4), np.int32(7476))\t1\n",
      "  (np.int32(4), np.int32(8420))\t1\n",
      "  (np.int32(5), np.int32(2807))\t1\n",
      "  (np.int32(5), np.int32(4446))\t1\n",
      "  (np.int32(5), np.int32(4711))\t1\n",
      "  :\t:\n",
      "  (np.int32(12095), np.int32(1700))\t1\n",
      "  (np.int32(12095), np.int32(7592))\t1\n",
      "  (np.int32(12096), np.int32(3718))\t1\n",
      "  (np.int32(12096), np.int32(3868))\t1\n",
      "  (np.int32(12096), np.int32(7462))\t1\n",
      "  (np.int32(12096), np.int32(9779))\t1\n",
      "  (np.int32(12097), np.int32(1918))\t1\n",
      "  (np.int32(12097), np.int32(2049))\t1\n",
      "  (np.int32(12097), np.int32(5135))\t1\n",
      "  (np.int32(12097), np.int32(5784))\t1\n",
      "  (np.int32(12097), np.int32(6233))\t1\n",
      "  (np.int32(12097), np.int32(7085))\t1\n",
      "  (np.int32(12097), np.int32(9097))\t1\n",
      "  (np.int32(12097), np.int32(9507))\t1\n",
      "  (np.int32(12097), np.int32(9880))\t1\n",
      "  (np.int32(12097), np.int32(10043))\t1\n",
      "  (np.int32(12098), np.int32(5398))\t1\n",
      "  (np.int32(12098), np.int32(6484))\t1\n",
      "  (np.int32(12098), np.int32(7126))\t1\n",
      "  (np.int32(12098), np.int32(7156))\t1\n",
      "  (np.int32(12098), np.int32(7851))\t1\n",
      "  (np.int32(12099), np.int32(674))\t1\n",
      "  (np.int32(12099), np.int32(4225))\t1\n",
      "  (np.int32(12099), np.int32(8421))\t1\n",
      "  (np.int32(12099), np.int32(9390))\t1\n"
     ]
    }
   ],
   "execution_count": 54
  },
  {
   "metadata": {},
   "cell_type": "markdown",
   "source": "朴素贝叶斯",
   "id": "5985d0c981d60a1e"
  },
  {
   "metadata": {
    "ExecuteTime": {
     "end_time": "2025-08-14T13:58:21.708178Z",
     "start_time": "2025-08-14T13:58:21.698091Z"
    }
   },
   "cell_type": "code",
   "source": [
    "from sklearn.feature_extraction.text import TfidfVectorizer\n",
    "from sklearn.naive_bayes import MultinomialNB\n",
    "from sklearn.model_selection import train_test_split\n",
    "from sklearn.metrics import classification_report, accuracy_score\n",
    "\n",
    "x_train, x_test, y_train, y_test = train_test_split(input_feature, dataset[1], test_size=0.2, random_state=rand_seed)"
   ],
   "id": "9d52152c84e83b82",
   "outputs": [],
   "execution_count": 57
  },
  {
   "metadata": {
    "ExecuteTime": {
     "end_time": "2025-08-14T13:59:11.314590Z",
     "start_time": "2025-08-14T13:59:11.246725Z"
    }
   },
   "cell_type": "code",
   "source": [
    "nb_model = MultinomialNB()\n",
    "nb_model.fit(x_train, y_train)\n",
    "#预测\n",
    "y_pred = nb_model.predict(x_test)\n",
    "accuracy_nb = accuracy_score(y_test, y_pred)\n",
    "print(accuracy_nb)\n",
    "report_nb = classification_report(y_test, y_pred)\n",
    "print(report_nb)"
   ],
   "id": "dff75fcac2b78471",
   "outputs": [
    {
     "name": "stdout",
     "output_type": "stream",
     "text": [
      "0.8909090909090909\n",
      "                       precision    recall  f1-score   support\n",
      "\n",
      "         Alarm-Update       0.91      0.96      0.93       247\n",
      "           Audio-Play       0.67      0.32      0.43        38\n",
      "       Calendar-Query       0.91      0.99      0.95       244\n",
      "        FilmTele-Play       0.80      0.89      0.84       255\n",
      "HomeAppliance-Control       0.95      0.98      0.96       243\n",
      "           Music-Play       0.91      0.84      0.88       275\n",
      "                Other       0.17      0.03      0.05        35\n",
      "         Radio-Listen       0.88      0.89      0.88       274\n",
      "       TVProgram-Play       0.75      0.26      0.38        58\n",
      "         Travel-Query       0.94      0.97      0.96       222\n",
      "           Video-Play       0.83      0.94      0.88       272\n",
      "        Weather-Query       0.95      0.93      0.94       257\n",
      "\n",
      "             accuracy                           0.89      2420\n",
      "            macro avg       0.81      0.75      0.76      2420\n",
      "         weighted avg       0.88      0.89      0.88      2420\n",
      "\n"
     ]
    }
   ],
   "execution_count": 59
  },
  {
   "metadata": {},
   "cell_type": "markdown",
   "source": "SVM支持向量机",
   "id": "42827035af68a7eb"
  },
  {
   "metadata": {
    "ExecuteTime": {
     "end_time": "2025-08-14T14:05:40.954828Z",
     "start_time": "2025-08-14T14:05:36.928088Z"
    }
   },
   "cell_type": "code",
   "source": [
    "from sklearn.svm import SVC\n",
    "\n",
    "svm_model = SVC(decision_function_shape='ovo')\n",
    "svm_model.fit(x_train, y_train)\n",
    "y_pred_svm = svm_model.predict(x_test)\n",
    "#预测\n",
    "accuracy_svm = accuracy_score(y_test, y_pred_svm)\n",
    "print(accuracy_nb)\n",
    "report_svm = classification_report(y_test, y_pred_svm)\n",
    "print(report_nb)"
   ],
   "id": "3b4cef0715ba5278",
   "outputs": [
    {
     "name": "stdout",
     "output_type": "stream",
     "text": [
      "0.8909090909090909\n",
      "                       precision    recall  f1-score   support\n",
      "\n",
      "         Alarm-Update       0.91      0.96      0.93       247\n",
      "           Audio-Play       0.67      0.32      0.43        38\n",
      "       Calendar-Query       0.91      0.99      0.95       244\n",
      "        FilmTele-Play       0.80      0.89      0.84       255\n",
      "HomeAppliance-Control       0.95      0.98      0.96       243\n",
      "           Music-Play       0.91      0.84      0.88       275\n",
      "                Other       0.17      0.03      0.05        35\n",
      "         Radio-Listen       0.88      0.89      0.88       274\n",
      "       TVProgram-Play       0.75      0.26      0.38        58\n",
      "         Travel-Query       0.94      0.97      0.96       222\n",
      "           Video-Play       0.83      0.94      0.88       272\n",
      "        Weather-Query       0.95      0.93      0.94       257\n",
      "\n",
      "             accuracy                           0.89      2420\n",
      "            macro avg       0.81      0.75      0.76      2420\n",
      "         weighted avg       0.88      0.89      0.88      2420\n",
      "\n"
     ]
    }
   ],
   "execution_count": 62
  },
  {
   "metadata": {},
   "cell_type": "markdown",
   "source": "#随机森林",
   "id": "57e154375f7f28ed"
  },
  {
   "metadata": {
    "ExecuteTime": {
     "end_time": "2025-08-14T14:16:14.004115Z",
     "start_time": "2025-08-14T14:16:09.863125Z"
    }
   },
   "cell_type": "code",
   "source": [
    "from sklearn.ensemble import RandomForestClassifier\n",
    "import warnings\n",
    "\n",
    "warnings.filterwarnings(\"ignore\")\n",
    "forest_model = RandomForestClassifier(n_estimators=50)\n",
    "forest_model.fit(x_train, y_train)\n",
    "y_pred_forest = forest_model.predict(x_test)\n",
    "print(y_pred_forest)\n",
    "#预测\n",
    "accuracy_forest = accuracy_score(y_test, y_pred_forest)\n",
    "print(accuracy_forest)\n",
    "report_forest = classification_report(y_test, y_pred_forest)"
   ],
   "id": "2f39a2fa909fd5a1",
   "outputs": [
    {
     "name": "stdout",
     "output_type": "stream",
     "text": [
      "['FilmTele-Play' 'Travel-Query' 'Calendar-Query' ... 'FilmTele-Play'\n",
      " 'Audio-Play' 'Video-Play']\n",
      "0.8504132231404958\n"
     ]
    }
   ],
   "execution_count": 67
  },
  {
   "metadata": {},
   "cell_type": "markdown",
   "source": "画图比较准确率",
   "id": "22e4e5524b7f0fb4"
  },
  {
   "metadata": {
    "ExecuteTime": {
     "end_time": "2025-08-14T14:31:46.814202Z",
     "start_time": "2025-08-14T14:31:46.718142Z"
    }
   },
   "cell_type": "code",
   "source": [
    "import matplotlib.pyplot as plt\n",
    "\n",
    "# 设置字体\n",
    "plt.rcParams['font.sans-serif'] = ['Arial Unicode MS']\n",
    "\n",
    "plt.figure(figsize=(10, 6))\n",
    "x_label = [\"贝叶斯\", \"svm\", \"随机森林\"]\n",
    "color_list = ['#FF6B6B', '#4ECDC4', '#45B7D1']\n",
    "acc_list = [accuracy_nb, accuracy_svm, accuracy_forest]\n",
    "ax = plt.bar(x_label, acc_list, color=color_list)\n",
    "plt.title('Accuracy Comparison')\n",
    "plt.xlabel('算法种类')\n",
    "plt.ylabel('精确率')\n",
    "for rect in ax:  #rects 是三根柱子的集合\n",
    "    height = rect.get_height()\n",
    "    plt.text(rect.get_x() + rect.get_width() / 2, height, str(round(height, 2)), size=15, ha='center', va='bottom')\n",
    "plt.show()\n"
   ],
   "id": "2a2ea576b4017b3d",
   "outputs": [
    {
     "data": {
      "text/plain": [
       "<Figure size 1000x600 with 1 Axes>"
      ],
      "image/png": "[encoded data removed]"
     },
     "metadata": {},
     "output_type": "display_data"
    }
   ],
   "execution_count": 79
  }
 ],
 "metadata": {
  "kernelspec": {
   "display_name": "Python 3",
   "language": "python",
   "name": "python3"
  },
  "language_info": {
   "codemirror_mode": {
    "name": "ipython",
    "version": 2
   },
   "file_extension": ".py",
   "mimetype": "text/x-python",
   "name": "python",
   "nbconvert_exporter": "python",
   "pygments_lexer": "ipython2",
   "version": "2.7.6"
  }
 },
 "nbformat": 4,
 "nbformat_minor": 5
}
